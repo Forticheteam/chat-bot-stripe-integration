{
 "cells": [
  {
   "cell_type": "code",
   "execution_count": 7,
   "metadata": {
    "ExecuteTime": {
     "end_time": "2020-05-01T13:51:51.254103Z",
     "start_time": "2020-05-01T13:51:49.598747Z"
    }
   },
   "outputs": [
    {
     "name": "stdout",
     "output_type": "stream",
     "text": [
      "Requirement already satisfied: airtable-python-wrapper in /Users/jfgonzalezm/VSCProjects/machine-learning-env/lib/python3.7/site-packages (0.13.0)\n",
      "Requirement already satisfied: requests>=2 in /Users/jfgonzalezm/VSCProjects/machine-learning-env/lib/python3.7/site-packages (from airtable-python-wrapper) (2.23.0)\n",
      "Requirement already satisfied: six>=1.10 in /Users/jfgonzalezm/VSCProjects/machine-learning-env/lib/python3.7/site-packages (from airtable-python-wrapper) (1.14.0)\n",
      "Requirement already satisfied: chardet<4,>=3.0.2 in /Users/jfgonzalezm/VSCProjects/machine-learning-env/lib/python3.7/site-packages (from requests>=2->airtable-python-wrapper) (3.0.4)\n",
      "Requirement already satisfied: urllib3!=1.25.0,!=1.25.1,<1.26,>=1.21.1 in /Users/jfgonzalezm/VSCProjects/machine-learning-env/lib/python3.7/site-packages (from requests>=2->airtable-python-wrapper) (1.25.9)\n",
      "Requirement already satisfied: idna<3,>=2.5 in /Users/jfgonzalezm/VSCProjects/machine-learning-env/lib/python3.7/site-packages (from requests>=2->airtable-python-wrapper) (2.9)\n",
      "Requirement already satisfied: certifi>=2017.4.17 in /Users/jfgonzalezm/VSCProjects/machine-learning-env/lib/python3.7/site-packages (from requests>=2->airtable-python-wrapper) (2020.4.5.1)\n"
     ]
    }
   ],
   "source": [
    "!pip install airtable-python-wrapper"
   ]
  },
  {
   "cell_type": "code",
   "execution_count": 2,
   "metadata": {
    "ExecuteTime": {
     "end_time": "2020-05-01T13:54:27.991726Z",
     "start_time": "2020-05-01T13:54:26.369761Z"
    }
   },
   "outputs": [
    {
     "name": "stdout",
     "output_type": "stream",
     "text": [
      "Requirement already up-to-date: pip in /Users/jfgonzalezm/VSCProjects/machine-learning-env/lib/python3.7/site-packages (20.1)\r\n"
     ]
    }
   ],
   "source": [
    "!pip install --upgrade pip"
   ]
  },
  {
   "cell_type": "code",
   "execution_count": 10,
   "metadata": {
    "ExecuteTime": {
     "end_time": "2020-05-01T14:09:19.074361Z",
     "start_time": "2020-05-01T14:09:19.071497Z"
    }
   },
   "outputs": [],
   "source": [
    "from airtable import Airtable\n",
    "at = Airtable('appigor9tjOGCe6uF', 'protocolos_integration', api_key='keyWVJHvjtpxfn0UP')"
   ]
  },
  {
   "cell_type": "code",
   "execution_count": 21,
   "metadata": {
    "ExecuteTime": {
     "end_time": "2020-05-01T14:13:52.799795Z",
     "start_time": "2020-05-01T14:13:52.795909Z"
    }
   },
   "outputs": [
    {
     "data": {
      "text/plain": [
       "{'short_url': 'VHaLOup5XiORkh', 'airtableID': 'recVHaLOup5XiORkh'}"
      ]
     },
     "execution_count": 21,
     "metadata": {},
     "output_type": "execute_result"
    }
   ],
   "source": [
    "short_url"
   ]
  },
  {
   "cell_type": "code",
   "execution_count": 22,
   "metadata": {
    "ExecuteTime": {
     "end_time": "2020-05-01T14:14:25.954674Z",
     "start_time": "2020-05-01T14:14:25.455882Z"
    }
   },
   "outputs": [
    {
     "data": {
      "text/plain": [
       "{'id': 'reclTtY59e72AEmcP',\n",
       " 'fields': {'Nombre': 'Jose',\n",
       "  'Apellidos': 'Gonzalez',\n",
       "  'Email': 'eric@gmail.com',\n",
       "  'short_url': 'lTtY59e72AEmcP',\n",
       "  'airtableID': 'reclTtY59e72AEmcP'},\n",
       " 'createdTime': '2020-05-01T14:14:26.000Z'}"
      ]
     },
     "execution_count": 22,
     "metadata": {},
     "output_type": "execute_result"
    }
   ],
   "source": [
    "rec = {'Nombre': 'Jose', 'Apellidos': 'Gonzalez', 'short_url': 'azdafere', 'Email': 'eric@gmail.com'}\n",
    "new_created_record = at.insert(r)\n",
    "short_url = {'short_url': new_created_record['id'].split('rec')[1],\n",
    "             'airtableID': new_created_record['id']}\n",
    "at.update(new_created_record['id'], short_url)\n"
   ]
  },
  {
   "cell_type": "code",
   "execution_count": 12,
   "metadata": {
    "ExecuteTime": {
     "end_time": "2020-05-01T14:09:53.329670Z",
     "start_time": "2020-05-01T14:09:53.325631Z"
    }
   },
   "outputs": [
    {
     "data": {
      "text/plain": [
       "'SPK7TXny1kEq0F'"
      ]
     },
     "execution_count": 12,
     "metadata": {},
     "output_type": "execute_result"
    }
   ],
   "source": [
    "new_created_record['id'].split('rec')[1]"
   ]
  },
  {
   "cell_type": "code",
   "execution_count": 23,
   "metadata": {
    "ExecuteTime": {
     "end_time": "2020-05-01T14:15:08.084769Z",
     "start_time": "2020-05-01T14:15:07.528631Z"
    },
    "scrolled": false
   },
   "outputs": [
    {
     "name": "stdout",
     "output_type": "stream",
     "text": [
      "airtable-python-wrapper==0.13.0\r\n",
      "appdirs==1.4.3\r\n",
      "appnope==0.1.0\r\n",
      "astropy==4.0.1.post1\r\n",
      "attrs==19.3.0\r\n",
      "backcall==0.1.0\r\n",
      "bleach==3.1.4\r\n",
      "catboost==0.22\r\n",
      "certifi==2020.4.5.1\r\n",
      "cffi==1.14.0\r\n",
      "chardet==3.0.4\r\n",
      "cloudpickle==1.3.0\r\n",
      "confuse==1.1.0\r\n",
      "cycler==0.10.0\r\n",
      "decorator==4.4.2\r\n",
      "defusedxml==0.6.0\r\n",
      "entrypoints==0.3\r\n",
      "enum34==1.1.10\r\n",
      "future==0.18.2\r\n",
      "graphviz==0.14\r\n",
      "h5py==2.10.0\r\n",
      "htmlmin==0.1.12\r\n",
      "hyperopt==0.2.4\r\n",
      "idna==2.9\r\n",
      "ImageHash==4.0\r\n",
      "importlib-metadata==1.6.0\r\n",
      "ipykernel==5.2.0\r\n",
      "ipython==7.13.0\r\n",
      "ipython-genutils==0.2.0\r\n",
      "ipywidgets==7.5.1\r\n",
      "jedi==0.16.0\r\n",
      "Jinja2==2.11.1\r\n",
      "joblib==0.14.1\r\n",
      "jsonschema==3.2.0\r\n",
      "jupyter==1.0.0\r\n",
      "jupyter-client==6.1.2\r\n",
      "jupyter-console==6.1.0\r\n",
      "jupyter-contrib-core==0.3.3\r\n",
      "jupyter-contrib-nbextensions==0.5.1\r\n",
      "jupyter-core==4.6.3\r\n",
      "jupyter-highlight-selected-word==0.2.0\r\n",
      "jupyter-latex-envs==1.4.6\r\n",
      "jupyter-nbextensions-configurator==0.4.1\r\n",
      "jupyterthemes==0.20.0\r\n",
      "Keras==2.2.4\r\n",
      "Keras-Applications==1.0.8\r\n",
      "Keras-Preprocessing==1.1.0\r\n",
      "kiwisolver==1.2.0\r\n",
      "lesscpy==0.14.0\r\n",
      "llvmlite==0.32.0\r\n",
      "lxml==4.5.0\r\n",
      "MarkupSafe==1.1.1\r\n",
      "matplotlib==3.2.1\r\n",
      "missingno==0.4.2\r\n",
      "mistune==0.8.4\r\n",
      "mpu==0.22.0\r\n",
      "nbconvert==5.6.1\r\n",
      "nbformat==5.0.5\r\n",
      "networkx==2.4\r\n",
      "notebook==6.0.3\r\n",
      "numba==0.49.0\r\n",
      "numpy==1.18.2\r\n",
      "pandas==1.0.3\r\n",
      "pandas-profiling==2.6.0\r\n",
      "pandocfilters==1.4.2\r\n",
      "parso==0.6.2\r\n",
      "patsy==0.5.1\r\n",
      "pexpect==4.8.0\r\n",
      "phik==0.9.11\r\n",
      "pickleshare==0.7.5\r\n",
      "Pillow==7.1.1\r\n",
      "plaidml==0.7.0\r\n",
      "plaidml-keras==0.7.0\r\n",
      "plotly==4.6.0\r\n",
      "ply==3.11\r\n",
      "prometheus-client==0.7.1\r\n",
      "prompt-toolkit==3.0.5\r\n",
      "ptyprocess==0.6.0\r\n",
      "pycparser==2.20\r\n",
      "Pygments==2.6.1\r\n",
      "pyopencl==2019.1.2\r\n",
      "pyparsing==2.4.6\r\n",
      "pyrsistent==0.16.0\r\n",
      "python-dateutil==2.8.1\r\n",
      "pytools==2020.1\r\n",
      "pytz==2019.3\r\n",
      "PyWavelets==1.1.1\r\n",
      "PyYAML==5.3.1\r\n",
      "pyzmq==19.0.0\r\n",
      "qtconsole==4.7.2\r\n",
      "QtPy==1.9.0\r\n",
      "requests==2.23.0\r\n",
      "retrying==1.3.3\r\n",
      "scikit-learn==0.22.2.post1\r\n",
      "scipy==1.4.1\r\n",
      "seaborn==0.10.0\r\n",
      "Send2Trash==1.5.0\r\n",
      "six==1.14.0\r\n",
      "statsmodels==0.11.1\r\n",
      "tangled-up-in-unicode==0.0.4\r\n",
      "terminado==0.8.3\r\n",
      "testpath==0.4.4\r\n",
      "tornado==6.0.4\r\n",
      "tqdm==4.45.0\r\n",
      "traitlets==4.3.3\r\n",
      "urllib3==1.25.9\r\n",
      "visions==0.4.1\r\n",
      "wcwidth==0.1.9\r\n",
      "webencodings==0.5.1\r\n",
      "widgetsnbextension==3.5.1\r\n",
      "zipp==3.1.0\r\n"
     ]
    }
   ],
   "source": [
    "@email_login\n"
   ]
  },
  {
   "cell_type": "code",
   "execution_count": 24,
   "metadata": {
    "ExecuteTime": {
     "end_time": "2020-05-01T15:47:15.089095Z",
     "start_time": "2020-05-01T15:47:15.069432Z"
    }
   },
   "outputs": [],
   "source": [
    "import urllib"
   ]
  },
  {
   "cell_type": "code",
   "execution_count": 26,
   "metadata": {
    "ExecuteTime": {
     "end_time": "2020-05-01T15:48:03.220236Z",
     "start_time": "2020-05-01T15:48:03.216537Z"
    }
   },
   "outputs": [],
   "source": [
    "from urllib.parse import unquote"
   ]
  },
  {
   "cell_type": "code",
   "execution_count": 28,
   "metadata": {
    "ExecuteTime": {
     "end_time": "2020-05-01T15:54:15.132652Z",
     "start_time": "2020-05-01T15:54:15.121122Z"
    }
   },
   "outputs": [
    {
     "data": {
      "text/plain": [
       "{'nombre_consulta': ['Jose Fernando'],\n",
       " 'nombre_protocolo': ['Protocolo de Prueba'],\n",
       " 'preciofinal1': ['20'],\n",
       " 'nombreproducto1': ['Vitamina C'],\n",
       " 'marcaproducto1': ['Centrum'],\n",
       " 'gastos_envios': ['2.99'],\n",
       " 'multiplicador1': ['1']}"
      ]
     },
     "execution_count": 28,
     "metadata": {},
     "output_type": "execute_result"
    }
   ],
   "source": [
    "urllib.parse.parse_qs(\"nombre_consulta=Jose+Fernando&nombre_protocolo=Protocolo+de+Prueba&preciofinal1=20&nombreproducto1=Vitamina+C&marcaproducto1=Centrum&gastos_envios=2.99&multiplicador1=1\")"
   ]
  },
  {
   "cell_type": "code",
   "execution_count": 31,
   "metadata": {
    "ExecuteTime": {
     "end_time": "2020-05-01T15:55:46.958869Z",
     "start_time": "2020-05-01T15:55:46.955638Z"
    }
   },
   "outputs": [],
   "source": [
    "b = urllib.parse.parse_qsl(\"nombre_consulta=Jose+Fernando&nombre_protocolo=Protocolo+de+Prueba&preciofinal1=20&nombreproducto1=Vitamina+C&marcaproducto1=Centrum&gastos_envios=2.99&multiplicador1=1\")"
   ]
  },
  {
   "cell_type": "code",
   "execution_count": 32,
   "metadata": {
    "ExecuteTime": {
     "end_time": "2020-05-01T15:55:58.666457Z",
     "start_time": "2020-05-01T15:55:58.656933Z"
    }
   },
   "outputs": [
    {
     "ename": "AttributeError",
     "evalue": "'list' object has no attribute 'get'",
     "output_type": "error",
     "traceback": [
      "\u001b[0;31m---------------------------------------------------------------------------\u001b[0m",
      "\u001b[0;31mAttributeError\u001b[0m                            Traceback (most recent call last)",
      "\u001b[0;32m<ipython-input-32-3c15bc66cb2b>\u001b[0m in \u001b[0;36m<module>\u001b[0;34m\u001b[0m\n\u001b[0;32m----> 1\u001b[0;31m \u001b[0mb\u001b[0m\u001b[0;34m.\u001b[0m\u001b[0mget\u001b[0m\u001b[0;34m(\u001b[0m\u001b[0;34m'nombre_consulta'\u001b[0m\u001b[0;34m)\u001b[0m\u001b[0;34m\u001b[0m\u001b[0;34m\u001b[0m\u001b[0m\n\u001b[0m",
      "\u001b[0;31mAttributeError\u001b[0m: 'list' object has no attribute 'get'"
     ]
    }
   ],
   "source": [
    "b.get('nombre_consulta')"
   ]
  },
  {
   "cell_type": "code",
   "execution_count": 33,
   "metadata": {
    "ExecuteTime": {
     "end_time": "2020-05-01T15:56:05.534685Z",
     "start_time": "2020-05-01T15:56:05.530692Z"
    }
   },
   "outputs": [
    {
     "data": {
      "text/plain": [
       "[('nombre_consulta', 'Jose Fernando'),\n",
       " ('nombre_protocolo', 'Protocolo de Prueba'),\n",
       " ('preciofinal1', '20'),\n",
       " ('nombreproducto1', 'Vitamina C'),\n",
       " ('marcaproducto1', 'Centrum'),\n",
       " ('gastos_envios', '2.99'),\n",
       " ('multiplicador1', '1')]"
      ]
     },
     "execution_count": 33,
     "metadata": {},
     "output_type": "execute_result"
    }
   ],
   "source": [
    "b"
   ]
  },
  {
   "cell_type": "code",
   "execution_count": 37,
   "metadata": {
    "ExecuteTime": {
     "end_time": "2020-05-01T15:56:35.264728Z",
     "start_time": "2020-05-01T15:56:35.262431Z"
    }
   },
   "outputs": [],
   "source": [
    "c = dict(b)"
   ]
  },
  {
   "cell_type": "code",
   "execution_count": 38,
   "metadata": {
    "ExecuteTime": {
     "end_time": "2020-05-01T15:56:41.228842Z",
     "start_time": "2020-05-01T15:56:41.225284Z"
    }
   },
   "outputs": [
    {
     "data": {
      "text/plain": [
       "'Jose Fernando'"
      ]
     },
     "execution_count": 38,
     "metadata": {},
     "output_type": "execute_result"
    }
   ],
   "source": [
    "c.get('nombre_consulta')"
   ]
  },
  {
   "cell_type": "code",
   "execution_count": null,
   "metadata": {},
   "outputs": [],
   "source": []
  }
 ],
 "metadata": {
  "kernelspec": {
   "display_name": "Python 3",
   "language": "python",
   "name": "python3"
  },
  "language_info": {
   "codemirror_mode": {
    "name": "ipython",
    "version": 3
   },
   "file_extension": ".py",
   "mimetype": "text/x-python",
   "name": "python",
   "nbconvert_exporter": "python",
   "pygments_lexer": "ipython3",
   "version": "3.7.4"
  },
  "varInspector": {
   "cols": {
    "lenName": 16,
    "lenType": 16,
    "lenVar": 40
   },
   "kernels_config": {
    "python": {
     "delete_cmd_postfix": "",
     "delete_cmd_prefix": "del ",
     "library": "var_list.py",
     "varRefreshCmd": "print(var_dic_list())"
    },
    "r": {
     "delete_cmd_postfix": ") ",
     "delete_cmd_prefix": "rm(",
     "library": "var_list.r",
     "varRefreshCmd": "cat(var_dic_list()) "
    }
   },
   "types_to_exclude": [
    "module",
    "function",
    "builtin_function_or_method",
    "instance",
    "_Feature"
   ],
   "window_display": false
  }
 },
 "nbformat": 4,
 "nbformat_minor": 4
}
